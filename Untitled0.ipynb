{
  "nbformat": 4,
  "nbformat_minor": 0,
  "metadata": {
    "colab": {
      "provenance": [],
      "authorship_tag": "ABX9TyNbX+NGFPy99GtDYnGI5Kal",
      "include_colab_link": true
    },
    "kernelspec": {
      "name": "python3",
      "display_name": "Python 3"
    },
    "language_info": {
      "name": "python"
    }
  },
  "cells": [
    {
      "cell_type": "markdown",
      "metadata": {
        "id": "view-in-github",
        "colab_type": "text"
      },
      "source": [
        "<a href=\"https://colab.research.google.com/github/thrijanipesaru/Playground/blob/master/Untitled0.ipynb\" target=\"_parent\"><img src=\"https://colab.research.google.com/assets/colab-badge.svg\" alt=\"Open In Colab\"/></a>"
      ]
    },
    {
      "cell_type": "code",
      "execution_count": 2,
      "metadata": {
        "id": "b3K0zEooBp3t"
      },
      "outputs": [],
      "source": [
        "import nltk\n",
        "import numpy as np\n",
        "import random\n",
        "import string"
      ]
    },
    {
      "cell_type": "code",
      "source": [
        "f=open('chatbot.txt','r',errors = 'ignore')\n",
        "raw=f.read()\n",
        "\n",
        "#convert all to a lowercase\n",
        "raw=raw.lower()\n",
        "\n",
        "#one time download\n",
        "nltk.download('punkt')\n",
        "\n",
        "#similar - First time use\n",
        "nltk.download('wordnet')\n",
        "\n",
        "#Raw data to sentences\n",
        "sent_tokens = nltk.sent_tokenize(raw)\n",
        "\n",
        "#Raw data to list of words\n",
        "word_tokens = nltk.word_tokenize(raw)\n"
      ],
      "metadata": {
        "colab": {
          "base_uri": "https://localhost:8080/"
        },
        "id": "HwUzaFsyCCGL",
        "outputId": "30b82c77-512f-4fb0-c339-4cb360a1eb49"
      },
      "execution_count": 5,
      "outputs": [
        {
          "output_type": "stream",
          "name": "stderr",
          "text": [
            "[nltk_data] Downloading package punkt to /root/nltk_data...\n",
            "[nltk_data]   Unzipping tokenizers/punkt.zip.\n",
            "[nltk_data] Downloading package wordnet to /root/nltk_data...\n"
          ]
        }
      ]
    },
    {
      "cell_type": "code",
      "source": [
        "sent_tokens[:2]\n",
        "['a chatbot (also known as a talkbot, chatterbot, bot,im bot, interactive agent, or artificial conversational entity) is a computer program or an artificial intelligence which conducts a conversation via auditory or textual methods.'\n",
        " 'such programs are often designed to convincingly simulate how a human would behave as a conversational partner,thereby passing the turing test.']\n",
        "word_tokens[:2]\n",
        "[ 'a','chatbot','(','also','known' ]"
      ],
      "metadata": {
        "colab": {
          "base_uri": "https://localhost:8080/"
        },
        "id": "0jmSwaOtN6-5",
        "outputId": "c4caffb4-e98e-4128-a82b-d21504603719"
      },
      "execution_count": 6,
      "outputs": [
        {
          "output_type": "execute_result",
          "data": {
            "text/plain": [
              "['a', 'chatbot', '(', 'also', 'known']"
            ]
          },
          "metadata": {},
          "execution_count": 6
        }
      ]
    },
    {
      "cell_type": "code",
      "source": [
        "#Using WordNet - English dictionary in NLTK\n",
        "lemmer = nltk.stem.WordNetLemmatizer()\n",
        "\n",
        "def LemTokens(tokens):\n",
        "  return [lemmer.lemmatize(token) for token in tokens]\n",
        "\n",
        "remove_punct_dict = dict((ord(punct), None) for punct in string.punctuation)\n",
        "\n",
        "def LemNormalize(text):\n",
        "  return LemTokens(nltk.word_tokenize(text.lower().translate(remove_punct_dict)))"
      ],
      "metadata": {
        "id": "0w021zFGWm5e"
      },
      "execution_count": 7,
      "outputs": []
    },
    {
      "cell_type": "code",
      "source": [
        "GREETING_INPUTS = (\"hello\", \"hi\", \"greetings\", \"sup\", \"what's up\", \"hey\",)\n",
        "GREETING_RESPONSES = [\"hi\", \"hey\", \"*nods*\", \"hi there\", \"hello\", \"I am glad! you are talking to me\"]\n",
        "def greeting(sentence):\n",
        "\n",
        "    for word in sentence.split():\n",
        "        if word.lower() in GREETING_INPUTS:\n",
        "           return random.choice(GREETING_RESPONSES)"
      ],
      "metadata": {
        "id": "LGI2oM8JlYh1"
      },
      "execution_count": 8,
      "outputs": []
    },
    {
      "cell_type": "code",
      "source": [
        "#Remember the Tf-IDF from the previous discussion?\n",
        "from sklearn.feature_extraction.text import TfidfVectorizer\n",
        "\n",
        "#cosine similarity to find similarity between user input and raw document\n",
        "from sklearn.metrics.pairwise import cosine_similarity"
      ],
      "metadata": {
        "id": "hA0cCx9VmxW0"
      },
      "execution_count": 9,
      "outputs": []
    },
    {
      "cell_type": "code",
      "source": [
        "def response(user_response):\n",
        "  robo_response=''\n",
        "  sent_tokens.append(user_response)\n",
        "  Tfidfvec = TfidfVectorizer(tokenizer=LemNormalize, stop_words='english')\n",
        "  tfidf = Tfidfvec.fit_transform(sent_tokens)\n",
        "  vals = cosine_similarity(tfidf[-1], tfidf)\n",
        "  idx=vals.argsort()[0][-2]\n",
        "  flat = vals.flatten()\n",
        "  flat.sort()\n",
        "  req_tfidf = flat[-2]\n",
        "  if(req_tfidf==0):\n",
        "    robo_response=robo_response+\"I am sorry! I  dont understand you\"\n",
        "    return robo_response\n",
        "  else:\n",
        "    robo_response = robo_response+sent_tokens[idx]\n",
        "    return robo_response\n"
      ],
      "metadata": {
        "id": "dkWwY2hDe2Lh"
      },
      "execution_count": 10,
      "outputs": []
    },
    {
      "cell_type": "code",
      "source": [
        "from tables.parameters import USER_BLOCK_SIZE\n",
        "flag=True\n",
        "print(\"chatbot: My name is SampleBot! I can help you with chatbots.If you want to quit ,just type Bye anytime!!\")\n",
        "while(flag==True):\n",
        "     user_response = input()\n",
        "     user_response=user_response.lower()\n",
        "     if(user_response!='bye'):\n",
        "         if(user_response=='thanks' or user_response=='thank you'):\n",
        "             flag=False\n",
        "             print(\"SampleBot:you're welcome!\")\n",
        "         else:\n",
        "             if(greeting(user_response)!=None):\n",
        "                print(\"SampleBot: \"+greeting(user_response))\n",
        "             else:\n",
        "              print(\"SampleBot: \",end=\"\")\n",
        "              print(response(user_response))\n",
        "              sent_tokens.remove(user_response)\n",
        "     else:\n",
        "        flag=False\n",
        "        print(\"SampleBot: Thanks for talking, bye bye!\")"
      ],
      "metadata": {
        "colab": {
          "base_uri": "https://localhost:8080/"
        },
        "id": "UN2W_BMah6m_",
        "outputId": "d16bbfbf-7aeb-4643-dc2b-45ae1a6f3419"
      },
      "execution_count": null,
      "outputs": [
        {
          "output_type": "stream",
          "name": "stdout",
          "text": [
            "chatbot: My name is SampleBot! I can help you with chatbots.If you want to quit ,just type Bye anytime!!\n",
            "hi\n",
            "SampleBot: *nods*\n",
            "hey\n",
            "SampleBot: hey\n",
            "how are yoy\n",
            "SampleBot: I am sorry! I  dont understand you\n",
            "how are you\n",
            "SampleBot: I am sorry! I  dont understand you\n",
            "hey\n",
            "SampleBot: hello\n",
            "who is alan turing?\n",
            "SampleBot: [8]\n",
            "\n",
            "background\n",
            "in 1950, alan turing's famous article \"computing machinery and intelligence\" was published,[9] which proposed what is now called the turing test as a criterion of intelligence.\n",
            "chatbot\n",
            "SampleBot: \"dbpedia chatbot\".\n"
          ]
        }
      ]
    }
  ]
}